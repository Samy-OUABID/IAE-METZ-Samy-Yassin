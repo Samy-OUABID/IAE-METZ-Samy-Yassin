{
  "nbformat": 4,
  "nbformat_minor": 0,
  "metadata": {
    "colab": {
      "provenance": [],
      "authorship_tag": "ABX9TyPBE/9Yiy2zjLbfS9lVNYpt",
      "include_colab_link": true
    },
    "kernelspec": {
      "name": "python3",
      "display_name": "Python 3"
    },
    "language_info": {
      "name": "python"
    }
  },
  "cells": [
    {
      "cell_type": "markdown",
      "metadata": {
        "id": "view-in-github",
        "colab_type": "text"
      },
      "source": [
        "<a href=\"https://colab.research.google.com/github/Samy-OUABID/IAE-METZ-Samy-Yassin/blob/main/TD_DATAFUNDS.ipynb\" target=\"_parent\"><img src=\"https://colab.research.google.com/assets/colab-badge.svg\" alt=\"Open In Colab\"/></a>"
      ]
    },
    {
      "cell_type": "code",
      "execution_count": 2,
      "metadata": {
        "colab": {
          "base_uri": "https://localhost:8080/"
        },
        "id": "9QXeNEHRn5LP",
        "outputId": "3149d341-6181-4d01-ce39-12010c50ba94"
      },
      "outputs": [
        {
          "output_type": "stream",
          "name": "stdout",
          "text": [
            "Hello world!\n"
          ]
        }
      ],
      "source": [
        "#premier code python par Samy pour le cours de l'iae METZ\n",
        "print(\"Hello world!\")\n",
        "\n"
      ]
    },
    {
      "cell_type": "markdown",
      "source": [
        "# simple example\n"
      ],
      "metadata": {
        "id": "tb1E99kgQ14A"
      }
    },
    {
      "cell_type": "code",
      "source": [
        "prénom = \"Elias\"  # string c'est du texte\n",
        "salaire = 5700 #integer sont les entier naturel\n",
        "Height= 1,70 # floats chiffres à virgules"
      ],
      "metadata": {
        "id": "X1MalRIgpXxs"
      },
      "execution_count": 3,
      "outputs": []
    },
    {
      "cell_type": "markdown",
      "source": [
        "case teste est en MARKDOWN"
      ],
      "metadata": {
        "id": "hBFj-X2Vqq0n"
      }
    },
    {
      "cell_type": "code",
      "source": [
        "print(\"prénom\")"
      ],
      "metadata": {
        "colab": {
          "base_uri": "https://localhost:8080/"
        },
        "id": "puEub6obqvyl",
        "outputId": "06135c68-337c-44ea-aefb-a2ea726d047f"
      },
      "execution_count": 6,
      "outputs": [
        {
          "output_type": "stream",
          "name": "stdout",
          "text": [
            "prénom\n"
          ]
        }
      ]
    },
    {
      "cell_type": "code",
      "source": [
        "print(f\"on dirait que {prénom} est seul, il gagne {salaire} rouble\")"
      ],
      "metadata": {
        "colab": {
          "base_uri": "https://localhost:8080/"
        },
        "id": "VFreYs6UQ_3R",
        "outputId": "70d7e03b-f645-418f-84cc-cc0952ad5217"
      },
      "execution_count": 7,
      "outputs": [
        {
          "output_type": "stream",
          "name": "stdout",
          "text": [
            "on dirait que Elias est seul, il gagne 5700 rouble\n"
          ]
        }
      ]
    },
    {
      "cell_type": "code",
      "source": [
        "# Arithmetic\n",
        "valeur_1 = 10\n",
        "valeur_2 = 3\n",
        "\n",
        "a = 10\n",
        "b = 3\n"
      ],
      "metadata": {
        "id": "IlJt_quJSGR5"
      },
      "execution_count": 8,
      "outputs": []
    },
    {
      "cell_type": "code",
      "source": [
        "a, b = 10, 3\n",
        "print(f\"SUM {a + b}, Differences {a - b}, product {a * b}, Division {a/b}\")"
      ],
      "metadata": {
        "colab": {
          "base_uri": "https://localhost:8080/"
        },
        "id": "ePOZu2DESwrS",
        "outputId": "90b6853a-70e6-4280-fece-31307a8c2330"
      },
      "execution_count": 10,
      "outputs": [
        {
          "output_type": "stream",
          "name": "stdout",
          "text": [
            "SUM 13, Differences 7, product 30, Division 3.3333333333333335\n"
          ]
        }
      ]
    },
    {
      "cell_type": "code",
      "source": [
        "print(f\"Division Integer {a//b}, Modulos: {a % b}, exponentiel: {a ** b}\")"
      ],
      "metadata": {
        "colab": {
          "base_uri": "https://localhost:8080/"
        },
        "id": "IbCTs1pjUBw1",
        "outputId": "6069a660-8fac-44bf-8698-866fab075516"
      },
      "execution_count": 11,
      "outputs": [
        {
          "output_type": "stream",
          "name": "stdout",
          "text": [
            "Division Integer 3, Modulos: 1, exponentiel: 1000\n"
          ]
        }
      ]
    },
    {
      "cell_type": "code",
      "source": [
        "# LIST\n",
        "stocks = [\"Apple\", \"bananes\", \"fraises\"]\n",
        "stocks[0]"
      ],
      "metadata": {
        "colab": {
          "base_uri": "https://localhost:8080/",
          "height": 35
        },
        "id": "Tfeo3oUOUywq",
        "outputId": "26a1efca-4e90-4043-f311-f7c7fa44de9c"
      },
      "execution_count": 13,
      "outputs": [
        {
          "output_type": "execute_result",
          "data": {
            "text/plain": [
              "'Apple'"
            ],
            "application/vnd.google.colaboratory.intrinsic+json": {
              "type": "string"
            }
          },
          "metadata": {},
          "execution_count": 13
        }
      ]
    },
    {
      "cell_type": "code",
      "source": [
        "# DICITONNAIRES\n",
        "# Non ordonné et paire clé-valeur. Unique et immutable\n",
        "# dans la vrais vie qu'utilisons nous le plus ?\n",
        "élève = {\"nom\": \"FABIAN\", \"age\": 25, \"city\": \"DUSSELDORF\"}\n",
        "print(f\"Salut je suis {élève ['nom']}, j'ai {élève['age']}, je viens de {élève['city']}\")"
      ],
      "metadata": {
        "colab": {
          "base_uri": "https://localhost:8080/"
        },
        "id": "BFz9F03CWF8Y",
        "outputId": "59355f3e-bb7a-4a6e-fdf4-7def4f412a89"
      },
      "execution_count": 20,
      "outputs": [
        {
          "output_type": "stream",
          "name": "stdout",
          "text": [
            "Salut je suis FABIAN, j'ai 25, je viens de DUSSELDORF\n"
          ]
        }
      ]
    },
    {
      "cell_type": "markdown",
      "source": [],
      "metadata": {
        "id": "5a4Cfn1xSAlw"
      }
    },
    {
      "cell_type": "code",
      "source": [
        "# la façon la plus courante de stocker des données en python est via un DATAFRAME\n",
        "# DATA + FRAME\n",
        "# PACKAGE\n",
        "import pandas as pd\n",
        "\n",
        "data = pd.DataFrame({'Data':['2020-01-01','2025-02-11'], 'FondInvestLux':[10, 100], 'Amundi': [11,13]}),"
      ],
      "metadata": {
        "id": "hlRoX-FeeiDB"
      },
      "execution_count": 22,
      "outputs": []
    },
    {
      "cell_type": "code",
      "source": [
        "data\n",
        "note = 10"
      ],
      "metadata": {
        "id": "SjII4oIhf_S5"
      },
      "execution_count": null,
      "outputs": []
    },
    {
      "cell_type": "code",
      "source": [
        "#Fonctions et boucles basiques à connaitre\n",
        "\n",
        "if note > 10:\n",
        "  print (\"j'ai plus quue la moyenne\")\n",
        "elif note < 10:\n",
        "  print (\"j'ai pas la moyenne\")\n",
        "else: #il faut savoir cloturer certaines boucles\n",
        "  print (\"j'ai pile la moyenne\")\n",
        "\n"
      ],
      "metadata": {
        "id": "xmp25hp7gvt_"
      },
      "execution_count": null,
      "outputs": []
    },
    {
      "cell_type": "code",
      "source": [
        "note = float(input(\"entres un chiffre\"))"
      ],
      "metadata": {
        "colab": {
          "base_uri": "https://localhost:8080/"
        },
        "id": "H5gPVYQIivIv",
        "outputId": "be4ff6cf-8abe-484e-9644-64c2cad85b66"
      },
      "execution_count": 37,
      "outputs": [
        {
          "name": "stdout",
          "output_type": "stream",
          "text": [
            "entres un chiffre13\n"
          ]
        }
      ]
    },
    {
      "cell_type": "code",
      "source": [
        "for i in range(3):\n",
        " print(f\"boucles avec x iteration de {i}\")"
      ],
      "metadata": {
        "colab": {
          "base_uri": "https://localhost:8080/"
        },
        "id": "hNecIfGcjm4h",
        "outputId": "ad61ffd4-5fb7-4064-f38f-95a8163569cb"
      },
      "execution_count": 41,
      "outputs": [
        {
          "output_type": "stream",
          "name": "stdout",
          "text": [
            "boucles avec x iteration de 0\n",
            "boucles avec x iteration de 1\n",
            "boucles avec x iteration de 2\n"
          ]
        }
      ]
    },
    {
      "cell_type": "code",
      "source": [
        "#boucle plus complexe : While qui est une boucle conditionnelle\n",
        "count = 0\n"
      ],
      "metadata": {
        "id": "bqXByUWkkM67"
      },
      "execution_count": 42,
      "outputs": []
    },
    {
      "cell_type": "code",
      "source": [
        "while count < 3:\n",
        "  print(f\"count:{3}\")\n",
        "  count +=1"
      ],
      "metadata": {
        "id": "HlV9QJcfkW1A"
      },
      "execution_count": 52,
      "outputs": []
    },
    {
      "cell_type": "code",
      "source": [
        "#Les bases des fonctions\n",
        "def greet(nom, greeting=\"hello\"):\n",
        "   return f\"{greeting},{nom}!!!\"\n",
        "print(greet(\"Jade\"))\n",
        "print(greet(\"Yassine\",\"BONJOUR\"))"
      ],
      "metadata": {
        "colab": {
          "base_uri": "https://localhost:8080/"
        },
        "id": "Ld7O_6jNlF_i",
        "outputId": "df5f29c5-78b7-43c8-b9c2-230808780da6"
      },
      "execution_count": 58,
      "outputs": [
        {
          "output_type": "stream",
          "name": "stdout",
          "text": [
            "hello,Jade!!!\n",
            "BONJOUR,Yassine!!!\n"
          ]
        }
      ]
    }
  ]
}